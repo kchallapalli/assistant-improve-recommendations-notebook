{
 "cells": [
  {
   "cell_type": "markdown",
   "metadata": {},
   "source": [
    "# Measure Watson Assistant Performance "
   ]
  },
  {
   "cell_type": "markdown",
   "metadata": {},
   "source": [
    "![overall_measure.png](https://raw.githubusercontent.com/watson-developer-cloud/assistant-improve-recommendations-notebook/master/notebook/imgs/measure_overall.png)\n",
    "\n",
    "## Introduction\n",
    "\n",
    "This notebook demonstrates how to setup automated metrics that help you measure, monitor, and understand the behavior of your Watson Assistant system. As described in <a href=\"https://github.com/watson-developer-cloud/assistant-improve-recommendations-notebook/raw/master/notebook/IBM%20Watson%20Assistant%20Continuous%20Improvement%20Best%20Practices.pdf\" target=\"_blank\" rel=\"noopener noreferrer\">Watson Assistant Continuous Improvement Best Practices</a>, this is the first step of your continuous improvement process. The goal of this step is to understand where your assistant is doing well vs where it isn’t and to potentially focus your improvement effort to one of the problem areas identified. We define two measures to achieve this goal: **Coverage** and **Effectiveness**.\n",
    "\n",
    "- **Coverage** is the portion of total user messages your assistant is attempting to respond to.\n",
    "\n",
    "- **Effectiveness** refers to how well your assistant is handling the conversations it is attempting to respond to.\n",
    "\n",
    "The pre-requisite for running this notebook is Watson Assistant (formerly Watson Conversation). This notebook assumes familiarity with Watson Assistant and concepts such as workspaces, intents and training examples. \n",
    "\n",
    "### Programming language and environment\n",
    "Some familiarity with Python is recommended. This notebook runs on Python 3.5 with Default Python 3.5 XS environment.\n",
    "***"
   ]
  },
  {
   "cell_type": "markdown",
   "metadata": {},
   "source": [
    "## Table of contents"
   ]
  },
  {
   "cell_type": "markdown",
   "metadata": {},
   "source": [
    "1. [Configuration and setup](#setup)<br>\n",
    "    1.1 [Import and apply global CSS styles](#css)<br>\n",
    "    1.2 [Install required Python libraries](#python)<br>\n",
    "    1.3 [Import functions used in the notebook](#function)<br>\n",
    "2. [Load and format data](#load)<br>\n",
    "    2.1 [Option one: from a Watson Assistant instance](#load_remote)<br>\n",
    "    2.2 [Option two: from JSON files](#load_local)<br>\n",
    "    2.3 [Format the log data](#format_data)<br>\n",
    "3. [Define coverage and effectiveness metrics](#set_metrics)<br>\n",
    "    3.1 [Customize coverage](#set_coverage)<br>\n",
    "    3.2 [Customize effectiveness](#set_effectiveness)<br>\n",
    "4. [Calculate overall coverage and effectiveness](#overall)<br>\n",
    "    4.1 [Calculate overall metrics](#overall1)<br>\n",
    "    4.2 [Display overall results](#overall2)<br>\n",
    "5. [Analyze coverage](#msg_analysis)<br>\n",
    "    5.1 [Display overall coverage](#msg_analysis1)<br>\n",
    "    5.2 [Calculate coverage over time](#msg_analysis2)<br>\n",
    "6. [Analyze effectiveness](#conv_analysis)<br>\n",
    "    6.1 [Generate excel file and upload to our project](#conv_analysis1)<br>\n",
    "    6.2 [Plot breakdown by effectiveness graph](#conv_analysis2)<br>\n",
    "7. [Root cause analysis of non coverage](#root_cause)<br>\n",
    "8. [Abandoned and resolved intent analysis](#abandoned_resolved_intents)<br>\n",
    "    8.1 [Count of all started intents](#started_intents)<br>\n",
    "    8.2 [Analyze resolved intents](#resolved_intents)<br>\n",
    "    8.3 [Analyze abandoned intents](#abandoned_intents)<br>\n",
    "9. [Summary and next steps](#summary)<br>"
   ]
  },
  {
   "cell_type": "markdown",
   "metadata": {},
   "source": [
    "<a id=\"setup\"></a>\n",
    "## 1. Configuration and Setup\n",
    "\n",
    "In this section, we add data and workspace access credentials, import required libraries and functions."
   ]
  },
  {
   "cell_type": "markdown",
   "metadata": {},
   "source": [
    "### <a id=\"css\"></a> 1.1 Import and apply global CSS styles"
   ]
  },
  {
   "cell_type": "code",
   "execution_count": 1,
   "metadata": {},
   "outputs": [
    {
     "name": "stdout",
     "output_type": "stream",
     "text": [
      "  % Total    % Received % Xferd  Average Speed   Time    Time     Time  Current\n",
      "                                 Dload  Upload   Total   Spent    Left  Speed\n",
      "100   348  100   348    0     0    348      0  0:00:01 --:--:--  0:00:01   584\n"
     ]
    },
    {
     "data": {
      "text/html": [
       "<style>\n",
       "    h1 {\n",
       "        font-family: \"HelveticaNeue-Light\", \"Helvetica Neue Light\", \"Helvetica Neue\";\n",
       "    }\n",
       "    div.text_cell_render{\n",
       "        font-family: \"HelveticaNeue-Light\", \"Helvetica Neue Light\", \"Helvetica Neue\";\n",
       "        line-height: 145%;\n",
       "        font-size: 120%;\n",
       "    }\n",
       "    .warning{\n",
       "        color: rgb( 240, 20, 20 )\n",
       "        }  \n",
       "</style>\n"
      ],
      "text/plain": [
       "<IPython.core.display.HTML object>"
      ]
     },
     "execution_count": 1,
     "metadata": {},
     "output_type": "execute_result"
    }
   ],
   "source": [
    "from IPython.display import HTML\n",
    "!curl -O https://raw.githubusercontent.com/watson-developer-cloud/assistant-improve-recommendations-notebook/master/src/main/css/custom.css\n",
    "HTML(open('custom.css', 'r').read())"
   ]
  },
  {
   "cell_type": "markdown",
   "metadata": {},
   "source": [
    "### <a id=\"python\"></a> 1.2 Install required Python libraries"
   ]
  },
  {
   "cell_type": "code",
   "execution_count": 2,
   "metadata": {},
   "outputs": [
    {
     "name": "stdout",
     "output_type": "stream",
     "text": [
      "Requirement already up-to-date: watson-developer-cloud<2.0,>=1.0 in /usr/local/lib/python3.6/site-packages (1.7.1)\n",
      "Requirement already satisfied, skipping upgrade: python-dateutil>=2.5.3 in /usr/local/lib/python3.6/site-packages (from watson-developer-cloud<2.0,>=1.0) (2.6.1)\n",
      "Requirement already satisfied, skipping upgrade: autobahn>=0.10.9 in /usr/local/lib/python3.6/site-packages (from watson-developer-cloud<2.0,>=1.0) (18.6.1)\n",
      "Requirement already satisfied, skipping upgrade: requests<3.0,>=2.0 in /usr/local/lib/python3.6/site-packages (from watson-developer-cloud<2.0,>=1.0) (2.18.4)\n",
      "Requirement already satisfied, skipping upgrade: Twisted>=13.2.0 in /usr/local/lib/python3.6/site-packages (from watson-developer-cloud<2.0,>=1.0) (18.4.0)\n",
      "Requirement already satisfied, skipping upgrade: service-identity>=17.0.0 in /usr/local/lib/python3.6/site-packages (from watson-developer-cloud<2.0,>=1.0) (17.0.0)\n",
      "Requirement already satisfied, skipping upgrade: pyOpenSSL>=16.2.0 in /usr/local/lib/python3.6/site-packages (from watson-developer-cloud<2.0,>=1.0) (18.0.0)\n",
      "Requirement already satisfied, skipping upgrade: six>=1.5 in /usr/local/lib/python3.6/site-packages (from python-dateutil>=2.5.3->watson-developer-cloud<2.0,>=1.0) (1.11.0)\n",
      "Requirement already satisfied, skipping upgrade: txaio>=2.10.0 in /usr/local/lib/python3.6/site-packages (from autobahn>=0.10.9->watson-developer-cloud<2.0,>=1.0) (2.10.0)\n",
      "Requirement already satisfied, skipping upgrade: idna<2.7,>=2.5 in /usr/local/lib/python3.6/site-packages (from requests<3.0,>=2.0->watson-developer-cloud<2.0,>=1.0) (2.6)\n",
      "Requirement already satisfied, skipping upgrade: chardet<3.1.0,>=3.0.2 in /usr/local/lib/python3.6/site-packages (from requests<3.0,>=2.0->watson-developer-cloud<2.0,>=1.0) (3.0.4)\n",
      "Requirement already satisfied, skipping upgrade: urllib3<1.23,>=1.21.1 in /usr/local/lib/python3.6/site-packages (from requests<3.0,>=2.0->watson-developer-cloud<2.0,>=1.0) (1.22)\n",
      "Requirement already satisfied, skipping upgrade: certifi>=2017.4.17 in /usr/local/lib/python3.6/site-packages (from requests<3.0,>=2.0->watson-developer-cloud<2.0,>=1.0) (2017.11.5)\n",
      "Requirement already satisfied, skipping upgrade: zope.interface>=4.4.2 in /usr/local/lib/python3.6/site-packages (from Twisted>=13.2.0->watson-developer-cloud<2.0,>=1.0) (4.5.0)\n",
      "Requirement already satisfied, skipping upgrade: Automat>=0.3.0 in /usr/local/lib/python3.6/site-packages (from Twisted>=13.2.0->watson-developer-cloud<2.0,>=1.0) (0.7.0)\n",
      "Requirement already satisfied, skipping upgrade: hyperlink>=17.1.1 in /usr/local/lib/python3.6/site-packages (from Twisted>=13.2.0->watson-developer-cloud<2.0,>=1.0) (18.0.0)\n",
      "Requirement already satisfied, skipping upgrade: incremental>=16.10.1 in /usr/local/lib/python3.6/site-packages (from Twisted>=13.2.0->watson-developer-cloud<2.0,>=1.0) (17.5.0)\n",
      "Requirement already satisfied, skipping upgrade: constantly>=15.1 in /usr/local/lib/python3.6/site-packages (from Twisted>=13.2.0->watson-developer-cloud<2.0,>=1.0) (15.1.0)\n",
      "Requirement already satisfied, skipping upgrade: pyasn1 in /usr/local/lib/python3.6/site-packages (from service-identity>=17.0.0->watson-developer-cloud<2.0,>=1.0) (0.1.9)\n",
      "Requirement already satisfied, skipping upgrade: attrs in /usr/local/lib/python3.6/site-packages (from service-identity>=17.0.0->watson-developer-cloud<2.0,>=1.0) (18.1.0)\n",
      "Requirement already satisfied, skipping upgrade: pyasn1-modules in /usr/local/lib/python3.6/site-packages (from service-identity>=17.0.0->watson-developer-cloud<2.0,>=1.0) (0.2.2)\n",
      "Requirement already satisfied, skipping upgrade: cryptography>=2.2.1 in /usr/local/lib/python3.6/site-packages (from pyOpenSSL>=16.2.0->watson-developer-cloud<2.0,>=1.0) (2.2.2)\n",
      "Requirement already satisfied, skipping upgrade: setuptools in /usr/local/lib/python3.6/site-packages (from zope.interface>=4.4.2->Twisted>=13.2.0->watson-developer-cloud<2.0,>=1.0) (39.0.1)\n",
      "Requirement already satisfied, skipping upgrade: cffi>=1.7; platform_python_implementation != \"PyPy\" in /usr/local/lib/python3.6/site-packages (from cryptography>=2.2.1->pyOpenSSL>=16.2.0->watson-developer-cloud<2.0,>=1.0) (1.11.2)\n",
      "Requirement already satisfied, skipping upgrade: asn1crypto>=0.21.0 in /usr/local/lib/python3.6/site-packages (from cryptography>=2.2.1->pyOpenSSL>=16.2.0->watson-developer-cloud<2.0,>=1.0) (0.24.0)\n",
      "Requirement already satisfied, skipping upgrade: pycparser in /usr/local/lib/python3.6/site-packages (from cffi>=1.7; platform_python_implementation != \"PyPy\"->cryptography>=2.2.1->pyOpenSSL>=16.2.0->watson-developer-cloud<2.0,>=1.0) (2.18)\n",
      "\u001b[33mWARNING: You are using pip version 19.1.1, however version 19.2.1 is available.\n",
      "You should consider upgrading via the 'pip install --upgrade pip' command.\u001b[0m\n"
     ]
    },
    {
     "name": "stderr",
     "output_type": "stream",
     "text": [
      ":0: UserWarning: You do not have a working installation of the service_identity module: 'cannot import name 'opentype''.  Please install it from <https://pypi.python.org/pypi/service_identity> and make sure all of its dependencies are satisfied.  Without the service_identity module, Twisted can perform only rudimentary TLS client hostname verification.  Many valid certificate/hostname mappings may be rejected.\n"
     ]
    }
   ],
   "source": [
    "# install watson-developer-cloud python SDK\n",
    "# After running this cell once, comment out the following code. Packages only need to be installed once.\n",
    "!pip3 install --upgrade \"watson-developer-cloud>=1.0,<2.0\";\n",
    "\n",
    "# Import required libraries\n",
    "import pandas as pd\n",
    "import matplotlib.pyplot as plt\n",
    "import json\n",
    "from pandas.io.json import json_normalize\n",
    "from watson_developer_cloud import AssistantV1\n",
    "import matplotlib.dates as mdates\n",
    "import re\n",
    "from IPython.display import display"
   ]
  },
  {
   "cell_type": "markdown",
   "metadata": {},
   "source": [
    "### <a id=\"function\"></a> 1.3 Import functions used in the notebook"
   ]
  },
  {
   "cell_type": "code",
   "execution_count": 3,
   "metadata": {},
   "outputs": [
    {
     "name": "stdout",
     "output_type": "stream",
     "text": [
      "  % Total    % Received % Xferd  Average Speed   Time    Time     Time  Current\n",
      "                                 Dload  Upload   Total   Spent    Left  Speed\n",
      "100  7240  100  7240    0     0   7240      0  0:00:01 --:--:--  0:00:01 13235\n",
      "  % Total    % Received % Xferd  Average Speed   Time    Time     Time  Current\n",
      "                                 Dload  Upload   Total   Spent    Left  Speed\n",
      "100  6952  100  6952    0     0   6952      0  0:00:01 --:--:--  0:00:01 13658\n",
      "  % Total    % Received % Xferd  Average Speed   Time    Time     Time  Current\n",
      "                                 Dload  Upload   Total   Spent    Left  Speed\n",
      "100 10166  100 10166    0     0  10166      0  0:00:01 --:--:--  0:00:01 20332\n",
      "  % Total    % Received % Xferd  Average Speed   Time    Time     Time  Current\n",
      "                                 Dload  Upload   Total   Spent    Left  Speed\n",
      "100 15862  100 15862    0     0  15862      0  0:00:01 --:--:--  0:00:01 29265\n"
     ]
    }
   ],
   "source": [
    "# Import function module files\n",
    "!curl -O https://raw.githubusercontent.com/watson-developer-cloud/assistant-improve-recommendations-notebook/master/src/main/python/cos_op.py\n",
    "!curl -O https://raw.githubusercontent.com/watson-developer-cloud/assistant-improve-recommendations-notebook/master/src/main/python/watson_assistant_func.py\n",
    "!curl -O https://raw.githubusercontent.com/watson-developer-cloud/assistant-improve-recommendations-notebook/master/src/main/python/visualize_func.py\n",
    "!curl -O https://raw.githubusercontent.com/watson-developer-cloud/assistant-improve-recommendations-notebook/master/src/main/python/computation_func.py\n",
    "    \n",
    "# Import the visualization related functions\n",
    "from visualize_func import make_pie\n",
    "from visualize_func import coverage_barh\n",
    "from visualize_func import width_bar\n",
    "\n",
    "# Import Cloud Object Storage related functions   \n",
    "from cos_op import generate_link\n",
    "from cos_op import generate_excel_measure\n",
    "\n",
    "# Import Watson Assistant related functions\n",
    "from watson_assistant_func import get_logs_jupyter\n",
    "\n",
    "# Import Dataframe computation related functions\n",
    "from computation_func import get_effective_df\n",
    "from computation_func import get_coverage_df\n",
    "from computation_func import chk_is_valid_node\n",
    "from computation_func import format_data"
   ]
  },
  {
   "cell_type": "markdown",
   "metadata": {},
   "source": [
    "## <a id=\"load\"></a> 2. Load and format data "
   ]
  },
  {
   "cell_type": "markdown",
   "metadata": {},
   "source": [
    "### <a id=\"load_remote\"></a> 2.1 Option one: from a Watson Assistant instance\n",
    "\n",
    "#### 2.1.1 Add Watson Assistant configuration\n",
    "\n",
    "Provide your Watson Assistant credentials and the workspace id that you want to fetch data from.   \n",
    "\n",
    "- For more information about obtaining Watson Assistant credentials, see [Service credentials for Watson services](https://console.bluemix.net/docs/services/watson/getting-started-credentials.html#creating-credentials).\n",
    "- API requests require a version parameter that takes a date in the format version=YYYY-MM-DD. For more information about version, see [Versioning](https://www.ibm.com/watson/developercloud/assistant/api/v1/curl.html?curl#versioning).\n"
   ]
  },
  {
   "cell_type": "code",
   "execution_count": 4,
   "metadata": {},
   "outputs": [],
   "source": [
    "# Provide credentials to connect to assistant\n",
    "creds = {'username':'YOUR_USERNAME',\n",
    "         'password':'YOUR_PASSWORD',\n",
    "         'version':'2018-05-03'}\n",
    "\n",
    "# Connect to Watson Assistant\n",
    "conversation = AssistantV1(username=creds['username'], \n",
    "                           password=creds['password'], \n",
    "                           version=creds['version'])\n",
    "\n",
    "# You only need to give api key and url to connect. If you can connect using this, you will not need the above code\n",
    "\n",
    "# conversation = AssistantV1(version='2019-04-28',\n",
    "#                            iam_apikey='',\n",
    "#                            url='')"
   ]
  },
  {
   "cell_type": "markdown",
   "metadata": {},
   "source": [
    "#### 2.1.2 Fetch and load a workspace\n",
    "\n",
    "Fetch the workspace for the workspace id given in `workspace_id` variable."
   ]
  },
  {
   "cell_type": "code",
   "execution_count": 5,
   "metadata": {},
   "outputs": [],
   "source": [
    "# Provide the workspace id you want to analyze\n",
    "workspace_id = ''\n",
    "\n",
    "if len(workspace_id) > 0:\n",
    "    # Fetch the worksapce info. for the input workspace id\n",
    "    workspace = conversation.get_workspace(workspace_id = workspace_id, export=True)\n",
    "\n",
    "    # Store the workspace details in a dataframe\n",
    "    df_workspace = json_normalize(workspace)\n",
    "\n",
    "    # Get all intents present in current version of workspace\n",
    "    workspace_intents= [intent['intent'] for intent in df_workspace['intents'].values[0]] \n",
    "\n",
    "    # Get all dialog nodes present in current version of workspace\n",
    "    workspace_nodes= pd.DataFrame(df_workspace['dialog_nodes'].values[0])\n",
    "\n",
    "    # Mark the workspace loaded\n",
    "    workspace_loaded = True\n",
    "else:\n",
    "    workspace_loaded = False"
   ]
  },
  {
   "cell_type": "markdown",
   "metadata": {},
   "source": [
    "#### 2.1.3 Fetch and load workspace logs\n",
    "\n",
    "Fetch the logs for the workspace id given in `workspace_id` variable. Any necessary filter can be specified in the `filter` variable.<br>\n",
    "Note that if the logs were already fetched in a previous run, it will be read from the a cache file."
   ]
  },
  {
   "cell_type": "code",
   "execution_count": 6,
   "metadata": {
    "scrolled": true
   },
   "outputs": [],
   "source": [
    "if len(workspace_id) > 0:\n",
    "    # Filter to be applied while fetching logs, e.g., removing empty input 'meta.summary.input_text_length_i>0', 'response_timestamp>=2018-09-18'\n",
    "    filter = 'meta.summary.input_text_length_i>0'\n",
    "\n",
    "    # Send this info into the get_logs function\n",
    "    workspace_creds={'sdk_object':conversation, 'ws_id':workspace['workspace_id'], 'ws_name':workspace['name']}\n",
    "\n",
    "    # Fetch the logs for the workspace\n",
    "    df = get_logs_jupyter(num_logs=10000, log_list=[], workspace_creds=workspace_creds, log_filter=filter)\n",
    "\n",
    "    # Mark the logs loaded\n",
    "    logs_loaded = True\n",
    "else:\n",
    "    logs_loaded = False   "
   ]
  },
  {
   "cell_type": "markdown",
   "metadata": {},
   "source": [
    "### <a id=\"load_local\"></a> 2.2 Option two: from JSON files\n",
    "\n",
    "#### 2.2.1 Load a workspace JSON file"
   ]
  },
  {
   "cell_type": "code",
   "execution_count": 7,
   "metadata": {},
   "outputs": [
    {
     "name": "stdout",
     "output_type": "stream",
     "text": [
      "Loading workspace data from Watson developer cloud Github repo ... completed!\n"
     ]
    }
   ],
   "source": [
    "if not workspace_loaded:\n",
    "    \n",
    "    # The following code is for using demo workspace\n",
    "    import requests\n",
    "    print('Loading workspace data from Watson developer cloud Github repo ... ', end='')\n",
    "    workspace_data = requests.get(\"https://raw.githubusercontent.com/watson-developer-cloud/assistant-improve-recommendations-notebook/master/notebook/data/workspace.json\").text    \n",
    "    print('completed!')\n",
    "    df_workspace = json_normalize(json.loads(workspace_data))\n",
    "    \n",
    "    # Specify a workspace JSON file\n",
    "    # workspace_file = 'workspace.json'\n",
    "\n",
    "    # Store the workspace details in a dataframe\n",
    "    # df_workspace = json_normalize(json.load(open(workspace_file)))\n",
    "\n",
    "    # Get all intents present in current version of workspace\n",
    "    workspace_intents = [intent['intent'] for intent in df_workspace['intents'].values[0]] \n",
    "\n",
    "    # Get all dialog nodes present in current version of workspace\n",
    "    workspace_nodes = pd.DataFrame(df_workspace['dialog_nodes'].values[0])"
   ]
  },
  {
   "cell_type": "markdown",
   "metadata": {},
   "source": [
    "#### 2.2.2 Load a log JSON file"
   ]
  },
  {
   "cell_type": "code",
   "execution_count": 8,
   "metadata": {
    "scrolled": false
   },
   "outputs": [
    {
     "name": "stdout",
     "output_type": "stream",
     "text": [
      "Loading demo log data from Watson developer cloud Github repo ... completed!\n"
     ]
    }
   ],
   "source": [
    "if not logs_loaded:\n",
    "    \n",
    "    # The following code is for using demo logs\n",
    "    import requests\n",
    "    print('Loading demo log data from Watson developer cloud Github repo ... ', end='')\n",
    "    log_raw_data = requests.get(\"https://raw.githubusercontent.com/watson-developer-cloud/assistant-improve-recommendations-notebook/master/notebook/data/sample_logs.json\").text\n",
    "    print('completed!')\n",
    "    df = pd.DataFrame.from_records(json.loads(log_raw_data))\n",
    "\n",
    "    # The following code is for loading your log file\n",
    "    # Specify a log JSON file\n",
    "    # log_file = 'sample_logs.json'\n",
    "    \n",
    "    # Create a dataframe for logs\n",
    "    # df = pd.DataFrame.from_records(json.load(open(log_file)))"
   ]
  },
  {
   "cell_type": "markdown",
   "metadata": {},
   "source": [
    "### <a id=\"format_data\"></a> 2.3 Format the log data"
   ]
  },
  {
   "cell_type": "code",
   "execution_count": 9,
   "metadata": {},
   "outputs": [],
   "source": [
    "# Format the logs data from the workspace\n",
    "df_formated = format_data(df)\n"
   ]
  },
  {
   "cell_type": "markdown",
   "metadata": {},
   "source": [
    "<a id=\"set_metrics\"></a>\n",
    "## 3. Define effectiveness and coverage metrics\n",
    "As described in Watson Assistant Continuous Improvement Best Practices, **Effectiveness** and **Coverage** are the two measures that provide a reliable understanding of your assistant’s overall performance. Both of the two measures are customizable based on your preferences. In this section, we provide a guideline for setting each of them."
   ]
  },
  {
   "cell_type": "markdown",
   "metadata": {},
   "source": [
    "### <a id=\"set_coverage\"></a> 3.1 Customize coverage\n",
    "\n",
    "Coverage measures your Watson Assistant system at the utterance level. You may include automated metrics that help identify utterences that your service is not answering. Example metrics include: \n",
    "\n",
    "- Confidence threshold\n",
    "- Dialog information\n",
    "\n",
    "For Confidence threshold, you can set a threshold to include utterances with confidence values below this threshold. For more information regarding Confidence, see [Absolute scoring](https://console.bluemix.net/docs/services/conversation/intents.html#absolute-scoring-and-mark-as-irrelevant).\n",
    "\n",
    "For Dialog information, you can specify what the notebook should look for in your logs to determine that a message is not covered by your assistant.\n",
    "\n",
    "- Use the node_ids list to include the identifiers of any dialog nodes you've used to model that a message is out of scope.  \n",
    "- Similarly, use the node_names list to include any dialog nodes.\n",
    "- Use node_conditions for dialog conditions that indicate a message is out of scope.\n",
    "    \n",
    "Note that these lists are treated as \"OR\" conditions - any occurrence of any of them will signify that a message is not covered. \n",
    "\n",
    "__Where to find node id, node name, and node condition__?\n",
    "\n",
    "You can find the values of these variables from your workspace JSON file based on following mappings.\n",
    "\n",
    "- node id: `dialog_node`\n",
    "- node name: `title`\n",
    "- node condition: `conditions`\n",
    "\n",
    "You can also find node name, and node condition in your workspace dialog editor. For more information, see [Dialog Nodes].(https://console.bluemix.net/docs/services/conversation/dialog-overview.html#dialog-nodes)\n",
    "\n",
    "Below we provide example code for identifying coverage based on confidence and dialog node. "
   ]
  },
  {
   "cell_type": "code",
   "execution_count": 10,
   "metadata": {},
   "outputs": [
    {
     "data": {
      "text/html": [
       "<div>\n",
       "<style>\n",
       "    .dataframe thead tr:only-child th {\n",
       "        text-align: right;\n",
       "    }\n",
       "\n",
       "    .dataframe thead th {\n",
       "        text-align: left;\n",
       "    }\n",
       "\n",
       "    .dataframe tbody tr th {\n",
       "        vertical-align: top;\n",
       "    }\n",
       "</style>\n",
       "<table border=\"1\" class=\"dataframe\">\n",
       "  <thead>\n",
       "    <tr style=\"text-align: right;\">\n",
       "      <th></th>\n",
       "      <th>Condition</th>\n",
       "      <th>Node ID</th>\n",
       "      <th>Node Name</th>\n",
       "      <th>Valid</th>\n",
       "    </tr>\n",
       "  </thead>\n",
       "  <tbody>\n",
       "    <tr>\n",
       "      <th>0</th>\n",
       "      <td>true</td>\n",
       "      <td>node_1_1467910920863</td>\n",
       "      <td>NaN</td>\n",
       "      <td>True</td>\n",
       "    </tr>\n",
       "    <tr>\n",
       "      <th>1</th>\n",
       "      <td>true</td>\n",
       "      <td>node_1_1467919680248</td>\n",
       "      <td>NaN</td>\n",
       "      <td>True</td>\n",
       "    </tr>\n",
       "    <tr>\n",
       "      <th>2</th>\n",
       "      <td>#out_of_scope || #off_topic</td>\n",
       "      <td>node_1_1467743415843</td>\n",
       "      <td>NaN</td>\n",
       "      <td>True</td>\n",
       "    </tr>\n",
       "    <tr>\n",
       "      <th>3</th>\n",
       "      <td>anything_else</td>\n",
       "      <td>node_2_1487280430136</td>\n",
       "      <td>NaN</td>\n",
       "      <td>True</td>\n",
       "    </tr>\n",
       "  </tbody>\n",
       "</table>\n",
       "</div>"
      ],
      "text/plain": [
       "                     Condition               Node ID Node Name Valid\n",
       "0                         true  node_1_1467910920863       NaN  True\n",
       "1                         true  node_1_1467919680248       NaN  True\n",
       "2  #out_of_scope || #off_topic  node_1_1467743415843       NaN  True\n",
       "3                anything_else  node_2_1487280430136       NaN  True"
      ]
     },
     "execution_count": 10,
     "metadata": {},
     "output_type": "execute_result"
    }
   ],
   "source": [
    "#Specify the confidence threhold you want to look for in the logs\n",
    "confidence_threshold = .20\n",
    "\n",
    "# Add coverage node ids, if any, to list\n",
    "node_ids = ['node_1_1467910920863', 'node_1_1467919680248']\n",
    "\n",
    "# Add coverage node names, if any, to list\n",
    "node_names = []\n",
    "\n",
    "# Add coverage node conditions, if any, to list\n",
    "node_conditions = ['#out_of_scope || #off_topic', 'anything_else']\n",
    "\n",
    "# Check if the dialog nodes are present in the current version of workspace\n",
    "df_coverage_nodes = chk_is_valid_node(node_ids, node_names, node_conditions, workspace_nodes)\n",
    "df_coverage_nodes"
   ]
  },
  {
   "cell_type": "markdown",
   "metadata": {},
   "source": [
    "### <a id=\"set_effectiveness\"></a> 3.2 Customize effectiveness\n",
    "\n",
    "Effectiveness measures your Watson Assistant system at the conversation level. You may include automated metrics that help identify problematic conversations. Example metrics include:\n",
    "\n",
    "- Escalations to live agent: conversations escalated to a human agent for quality reasons.\n",
    "- Poor NPS: conversations that received a poor NPS (Net Promoter Score), or other explicit user feedback.\n",
    "- Task not completed: conversations failed to complete the task the user was attempting.\n",
    "- Implicit feedback: conversations containing implicit feedback that suggests failure, such as links provided not being clicked. \n",
    "\n",
    "Below we provide example code for identifying escalation based on intents and dialog information."
   ]
  },
  {
   "cell_type": "markdown",
   "metadata": {},
   "source": [
    "#### <a id=\"set_escalation_intent\"></a> 3.2.1 Specify intents to identify escalations\n",
    "If you have specific intents that point to escalation or any other effectiveness measure, specify those in `chk_effective_intents` lists below. <br>\n",
    "**Note:** If you don't have specific intents to capture effectiveness, leave chk_effective_intents list empty."
   ]
  },
  {
   "cell_type": "code",
   "execution_count": 11,
   "metadata": {},
   "outputs": [
    {
     "data": {
      "text/html": [
       "<div>\n",
       "<style>\n",
       "    .dataframe thead tr:only-child th {\n",
       "        text-align: right;\n",
       "    }\n",
       "\n",
       "    .dataframe thead th {\n",
       "        text-align: left;\n",
       "    }\n",
       "\n",
       "    .dataframe tbody tr th {\n",
       "        vertical-align: top;\n",
       "    }\n",
       "</style>\n",
       "<table border=\"1\" class=\"dataframe\">\n",
       "  <thead>\n",
       "    <tr style=\"text-align: right;\">\n",
       "      <th></th>\n",
       "      <th>Intent</th>\n",
       "      <th>Valid</th>\n",
       "      <th>Count</th>\n",
       "    </tr>\n",
       "  </thead>\n",
       "  <tbody>\n",
       "    <tr>\n",
       "      <th>0</th>\n",
       "      <td>connect_to_agent</td>\n",
       "      <td>True</td>\n",
       "      <td>73</td>\n",
       "    </tr>\n",
       "  </tbody>\n",
       "</table>\n",
       "</div>"
      ],
      "text/plain": [
       "             Intent  Valid  Count\n",
       "0  connect_to_agent   True     73"
      ]
     },
     "execution_count": 11,
     "metadata": {},
     "output_type": "execute_result"
    }
   ],
   "source": [
    "# Add your escalation intents to the list\n",
    "chk_effective_intents=['connect_to_agent']\n",
    "\n",
    "# Store the intents in a dataframe\n",
    "df_chk_effective_intents = pd.DataFrame(chk_effective_intents, columns = ['Intent'])\n",
    "\n",
    "# Add a 'valid' flag to the dataframe\n",
    "df_chk_effective_intents['Valid']= True\n",
    "\n",
    "# Add count column for selected intents\n",
    "df_chk_effective_intents['Count']= 0\n",
    "\n",
    "# Checking the validity of the specified intents. Look out for the `valid` column in the table displayed below.\n",
    "for intent in chk_effective_intents:\n",
    "    # Check if intent is present in workspace\n",
    "    if intent not in workspace_intents:\n",
    "        # If not present, mark it as 'not valid'\n",
    "        df_chk_effective_intents.loc[df_chk_effective_intents['Intent']==intent,['Valid']] = False\n",
    "        # Remove intent from the chk_effective_intents list \n",
    "        chk_effective_intents.remove(intent)\n",
    "    else:\n",
    "        # Calculate number of times each intent is hit\n",
    "        count = df_formated.loc[df_formated['response.top_intent_intent']==intent]['log_id'].nunique()\n",
    "        df_chk_effective_intents.loc[df_chk_effective_intents['Intent']==intent,['Count']] = count\n",
    "# Display intents and validity\n",
    "df_chk_effective_intents"
   ]
  },
  {
   "cell_type": "markdown",
   "metadata": {},
   "source": [
    "#### <a id=\"set_escalation_dialog\"></a> 3.2.2 Specify  dialog nodes to identify escalations\n",
    "If you have specific dialog nodes that point to escalation or any other effectiveness measure, you can automated capture them based on three variables: node id, node name, and node condition.\n",
    "\n",
    "- Use the node_ids list to include the identifiers of any dialog nodes you've used to model that a message indicates an escalation.  \n",
    "- Similarly, use the node_names list to include dialog nodes.\n",
    "- Use node_conditions for dialog conditions that indicate a message is out of scope.\n",
    "\n",
    "Note that these lists are treated as \"OR\" conditions - any occurrence of any of them will signify that a message is not covered. \n",
    "\n",
    "__Where to find node id, node name, and node condition__?\n",
    "\n",
    "You can find the values of these variables from your workspace JSON file based on following mappings.\n",
    "\n",
    "- node id: `dialog_node`\n",
    "- node name: `title`\n",
    "- node condition: `conditions`\n",
    "\n",
    "You can also find node name, and node condition in your workspace dialog editor. For more information, see [Dialog Nodes](https://console.bluemix.net/docs/services/conversation/dialog-overview.html#dialog-nodes).\n",
    "\n",
    "**Note:** If your assistant does not incorporate escalations and you do not have any other automated conversation-level quality metrics to identify problematic conversations (e.g., poor NPS, task not completed), you can simply track coverage and average confidence over a recent sample of your entire production logs. Leave an empty list for node_ids, node_names and node_conditions.  "
   ]
  },
  {
   "cell_type": "code",
   "execution_count": 12,
   "metadata": {},
   "outputs": [
    {
     "data": {
      "text/html": [
       "<div>\n",
       "<style>\n",
       "    .dataframe thead tr:only-child th {\n",
       "        text-align: right;\n",
       "    }\n",
       "\n",
       "    .dataframe thead th {\n",
       "        text-align: left;\n",
       "    }\n",
       "\n",
       "    .dataframe tbody tr th {\n",
       "        vertical-align: top;\n",
       "    }\n",
       "</style>\n",
       "<table border=\"1\" class=\"dataframe\">\n",
       "  <thead>\n",
       "    <tr style=\"text-align: right;\">\n",
       "      <th></th>\n",
       "      <th>Condition</th>\n",
       "      <th>Node ID</th>\n",
       "      <th>Node Name</th>\n",
       "      <th>Valid</th>\n",
       "    </tr>\n",
       "  </thead>\n",
       "  <tbody>\n",
       "    <tr>\n",
       "      <th>0</th>\n",
       "      <td>#connect_to_agent</td>\n",
       "      <td>node_2_1537212368188</td>\n",
       "      <td>NaN</td>\n",
       "      <td>True</td>\n",
       "    </tr>\n",
       "    <tr>\n",
       "      <th>1</th>\n",
       "      <td>#answer_not_helpful</td>\n",
       "      <td>node_1_1537212185418</td>\n",
       "      <td>NaN</td>\n",
       "      <td>True</td>\n",
       "    </tr>\n",
       "    <tr>\n",
       "      <th>2</th>\n",
       "      <td>#not_trained</td>\n",
       "      <td>node_1_1537297843450</td>\n",
       "      <td>not_trained</td>\n",
       "      <td>True</td>\n",
       "    </tr>\n",
       "  </tbody>\n",
       "</table>\n",
       "</div>"
      ],
      "text/plain": [
       "             Condition               Node ID    Node Name Valid\n",
       "0    #connect_to_agent  node_2_1537212368188          NaN  True\n",
       "1  #answer_not_helpful  node_1_1537212185418          NaN  True\n",
       "2         #not_trained  node_1_1537297843450  not_trained  True"
      ]
     },
     "execution_count": 12,
     "metadata": {},
     "output_type": "execute_result"
    }
   ],
   "source": [
    "# Add effectiveness node ids, if any, to list\n",
    "node_ids = []\n",
    "\n",
    "# Add effectiveness node names, if any, to list\n",
    "node_names = ['not_trained']\n",
    "\n",
    "# Add effectiveness node conditions, if any, to list\n",
    "node_conditions = ['#connect_to_agent', '#answer_not_helpful']\n",
    "\n",
    "# If your assistant does not incorporate escalations and you do not have any other automated conversation-level quality metrics, uncomment lines below \n",
    "# node_ids = [] \n",
    "# node_names = [] \n",
    "# node_conditions = [] \n",
    "\n",
    "# Check if the dialog nodes are present in the current version of workspace\n",
    "df_chk_effective_nodes = chk_is_valid_node(node_ids, node_names, node_conditions, workspace_nodes)\n",
    "df_chk_effective_nodes"
   ]
  },
  {
   "cell_type": "markdown",
   "metadata": {},
   "source": [
    "## 4. Calculate overall coverage and effectiveness<a id=\"overall\"></a>"
   ]
  },
  {
   "cell_type": "markdown",
   "metadata": {},
   "source": [
    "The combination of effectiveness and coverage is very powerful for diagnostics.\n",
    "If your effectiveness and coverage metrics are high, it means that your assistant is responding to most inquiries and responding well. If either effectiveness or coverage are low, the metrics provide you with the information you need to start improving your assistant. \n"
   ]
  },
  {
   "cell_type": "markdown",
   "metadata": {},
   "source": [
    "###  4.1 Calculate overall metrics<a id=\"overall1\"></a>"
   ]
  },
  {
   "cell_type": "code",
   "execution_count": 13,
   "metadata": {},
   "outputs": [],
   "source": [
    "df_formated_copy = df_formated.copy(deep = True)\n",
    "\n",
    "# Mark if a message is covered and store results in df_coverage dataframe\n",
    "df_coverage = get_coverage_df(df_formated_copy , df_coverage_nodes, confidence_threshold)\n",
    "\n",
    "# Mark if a conversation is effective and store results in df_coverage dataframe\n",
    "df_effective = get_effective_df(df_formated_copy, chk_effective_intents, df_chk_effective_nodes, filter_non_intent_node=True, workspace_nodes=workspace_nodes)\n",
    "\n",
    "# Calculate average confidence\n",
    "avg_conf = float(\"{0:.2f}\".format(df_coverage[df_coverage['Covered']==True]['response.top_intent_confidence'].mean()*100))\n",
    "\n",
    "# Calculate coverage\n",
    "coverage = float(\"{0:.2f}\".format((df_coverage['Covered'].value_counts().to_frame()['Covered'][True]/df_coverage['Covered'].value_counts().sum())*100))\n",
    "\n",
    "# Calculate effectiveness\n",
    "effective_perc = float(\"{0:.2f}\".format((df_effective.loc[df_effective['Escalated_conversation']==False]['response.context.conversation_id'].nunique()/df_effective['response.context.conversation_id'].nunique())*100))              \n",
    "\n",
    "# Plot pie graphs for coverage and effectiveness\n",
    "coverage_pie = make_pie(coverage, \"Percent of total messages covered\")\n",
    "effective_pie = make_pie(effective_perc, 'Percent of non-escalated conversations')"
   ]
  },
  {
   "cell_type": "markdown",
   "metadata": {},
   "source": [
    "Messages to be displayed with coverage and effectiveness metrics are given below"
   ]
  },
  {
   "cell_type": "code",
   "execution_count": 14,
   "metadata": {},
   "outputs": [],
   "source": [
    "# Messages to be displayed with effectiveness and coverage\n",
    "coverage_msg = '<h2>Coverage</h2></br>A message that is not covered would either be a \\\n",
    "message your assistant responded to with some form \\\n",
    "of “I’m not trained” or that it immediately handed over \\\n",
    "to a human agent without attempting to respond'\n",
    "\n",
    "effectiveness_msg = '<h2>Effectiveness</h2></br>This notebook provides a list of metrics customers \\\n",
    "can use to assess how effective their assistant is at \\\n",
    "responding to conversation and metrics '"
   ]
  },
  {
   "cell_type": "markdown",
   "metadata": {},
   "source": [
    "###  4.2 Display overall results<a id=\"overall2\"></a>\n"
   ]
  },
  {
   "cell_type": "code",
   "execution_count": 15,
   "metadata": {},
   "outputs": [
    {
     "data": {
      "text/html": [
       "<tr><th colspan=\"4\"><div align=\"center\"><h2>Coverage and Effectiveness<hr/></h2></div></th></tr><tr>    <td style=\"width:500px\"><img class=\"colimg\" src='data:image/png;base64,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'></td>    <td style=\"width:450px\"><div align=\"left\"> <h2>Coverage</h2></br>A message that is not covered would either be a message your assistant responded to with some form of “I’m not trained” or that it immediately handed over to a human agent without attempting to respond </div></td>    <td style=\"width:500px\"><img class=\"colimg\" src='data:image/png;base64,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'></td>    <td style=\"width:450px\"><div align=\"left\"> <h2>Effectiveness</h2></br>This notebook provides a list of metrics customers can use to assess how effective their assistant is at responding to conversation and metrics   </div></td></tr>"
      ],
      "text/plain": [
       "<IPython.core.display.HTML object>"
      ]
     },
     "execution_count": 15,
     "metadata": {},
     "output_type": "execute_result"
    }
   ],
   "source": [
    "# Display the coverage and effectiveness pie charts\n",
    "HTML('<tr><th colspan=\"4\"><div align=\"center\"><h2>Coverage and Effectiveness<hr/></h2></div></th></tr>\\\n",
    "<tr>\\\n",
    "    <td style=\"width:500px\">{c_pie}</td>\\\n",
    "    <td style=\"width:450px\"><div align=\"left\"> {c_msg} </div></td>\\\n",
    "    <td style=\"width:500px\">{e_pie}</td>\\\n",
    "    <td style=\"width:450px\"><div align=\"left\"> {e_msg}  </div></td>\\\n",
    "</tr>'\n",
    "    .format(c_pie=coverage_pie, c_msg = coverage_msg, e_pie = effective_pie, e_msg = effectiveness_msg))"
   ]
  },
  {
   "cell_type": "markdown",
   "metadata": {},
   "source": [
    "Here, we can see our assistant's coverage and effectiveness. We will have to take a deeper look at both of these metrics to understand the nuances and decide where we should focus next. \n",
    "\n",
    "Note that the distinction between a user message and a conversation. A conversation in Watson Assistant represents a session of one or more messages from a user and the associated responses returned to the user from the assistant. A conversation includes a Conversation id for the purposes of grouping a sequence of messages and responses. "
   ]
  },
  {
   "cell_type": "markdown",
   "metadata": {},
   "source": [
    "<a id=\"msg_analysis\"></a>\n",
    "## 5.  Analyze coverage\n",
    "\n",
    "Here, we take a deeper look at the Coverage of our Watson Assistant."
   ]
  },
  {
   "cell_type": "markdown",
   "metadata": {},
   "source": [
    "\n",
    "###  5.1 Display overall coverage<a id=\"msg_analysis1\"></a>\n"
   ]
  },
  {
   "cell_type": "code",
   "execution_count": 16,
   "metadata": {},
   "outputs": [
    {
     "name": "stdout",
     "output_type": "stream",
     "text": [
      "Overall messages\n",
      "================\n",
      "Total Conversations: 4319\n",
      "Total Messages: 7706\n",
      "\n",
      "\n"
     ]
    },
    {
     "data": {
      "image/png": "[encoded data removed]",
      "text/plain": [
       "<Figure size 1080x108 with 1 Axes>"
      ]
     },
     "metadata": {},
     "output_type": "display_data"
    }
   ],
   "source": [
    "%matplotlib inline  \n",
    "\n",
    "# Compute the number of conversations in the log\n",
    "convs = df_coverage['response.context.conversation_id'].nunique()\n",
    "\n",
    "# Compute the number of messages in the log\n",
    "msgs = df_coverage['response.context.conversation_id'].size\n",
    "\n",
    "#Display the results\n",
    "print('Overall messages\\n', \"=\" * len('Overall messages'), '\\nTotal Conversations: ', convs, '\\nTotal Messages: ', msgs, '\\n\\n', sep = '')\n",
    "\n",
    "#Display the coverage bar chart\n",
    "display(coverage_barh(coverage, avg_conf, 'Coverage & Average confidence', False))"
   ]
  },
  {
   "cell_type": "markdown",
   "metadata": {},
   "source": [
    "Here, we see the percentage of messages covered and their average confidence. Now, let us take a look at the coverage over time."
   ]
  },
  {
   "cell_type": "markdown",
   "metadata": {},
   "source": [
    "\n",
    "###  5.2 Calculate coverage over time<a id=\"msg_analysis2\"></a>\n"
   ]
  },
  {
   "cell_type": "code",
   "execution_count": 17,
   "metadata": {},
   "outputs": [],
   "source": [
    "# Make a copy of df_coverage dataframe\n",
    "df_Tbot_raw1 = df_coverage.copy(deep=True)\n",
    "\n",
    "# Group by date and covered and compute the count\n",
    "covered_counts = df_Tbot_raw1[['Date','Covered']].groupby(['Date','Covered']).agg({'Covered': 'count'})\n",
    "\n",
    "# Convert numbers to percentage\n",
    "coverage_grp = covered_counts.groupby(level=0).apply(lambda x:round(100 * x / float(x.sum()),2)).rename(columns = {'Covered':'Coverage'}).reset_index()\n",
    "\n",
    "# Get only covered messages\n",
    "coverage_time = coverage_grp[coverage_grp['Covered']==True].reset_index(drop = True)\n",
    "\n",
    "# Determine the number of xticks required\n",
    "xticks = [d for d in coverage_time['Date']]"
   ]
  },
  {
   "cell_type": "code",
   "execution_count": 18,
   "metadata": {},
   "outputs": [
    {
     "data": {
      "image/png": "[encoded data removed]",
      "text/plain": [
       "<Figure size 2160x576 with 1 Axes>"
      ]
     },
     "metadata": {},
     "output_type": "display_data"
    }
   ],
   "source": [
    "# Plot the coverage over time graph\n",
    "fig, ax = plt.subplots(figsize=(30,8))\n",
    "\n",
    "# Format the date on x-axis\n",
    "ax.xaxis.set_major_formatter(mdates.DateFormatter('%Y-%m-%d'))\n",
    "ax.xaxis_date()\n",
    "ax.set_xticks(xticks)\n",
    "# Rotate x-axis labels\n",
    "for ax in fig.axes:\n",
    "    plt.sca(ax)\n",
    "    plt.xticks(rotation = 315)\n",
    "\n",
    "# Plot a line plot if there are more data points\n",
    "if len(coverage_time) >1:\n",
    "    ax.plot_date(coverage_time['Date'], coverage_time['Coverage'], fmt = '-', color = '#4fa8f6', linewidth=6)\n",
    "# Plot a scatter plot if there is only one date on x-axis\n",
    "else:\n",
    "    ax.plot_date(coverage_time['Date'], coverage_time['Coverage'], color = '#4fa8f6', linewidth=6)\n",
    "\n",
    "# Set axis labels and title\n",
    "ax.set_xlabel(\"Time\", fontsize=20, fontweight='bold')\n",
    "ax.set_ylabel(\"Coverage %\", fontsize=20, fontweight='bold')\n",
    "ax.set_title('Coverage over time', fontsize=25, fontweight = 'bold')\n",
    "ax.tick_params(axis='both', labelsize=15)\n",
    "\n",
    "# Hide the right and top spines\n",
    "ax.spines['right'].set_visible(False)\n",
    "ax.spines['top'].set_visible(False)"
   ]
  },
  {
   "cell_type": "markdown",
   "metadata": {},
   "source": [
    "**Note:** Compare the coverage over time with any major updates to your assistant, to see if the changes affected the performance."
   ]
  },
  {
   "cell_type": "markdown",
   "metadata": {
    "collapsed": true
   },
   "source": [
    "<a id=\"conv_analysis\"></a>\n",
    "## 6. Analyze effectiveness"
   ]
  },
  {
   "cell_type": "markdown",
   "metadata": {},
   "source": [
    "Here, we will take a deeper look at effectiveness of the assistant"
   ]
  },
  {
   "cell_type": "code",
   "execution_count": 19,
   "metadata": {},
   "outputs": [],
   "source": [
    "# Get the escalated conversations\n",
    "df_effective_true = df_effective.loc[df_effective['Escalated_conversation']==True]\n",
    "\n",
    "# Get the non-escalated conversations\n",
    "df_not_effective = df_effective.loc[df_effective['Escalated_conversation']==False]\n",
    "\n",
    "# Calculate percentage of escalated conversations\n",
    "ef_escalated = float(\"{0:.2f}\".format(100-effective_perc))\n",
    "\n",
    "# Calculate coverage and non-coverage in escalated conversations\n",
    "if len(df_effective_true) > 0:\n",
    "    escalated_covered = float(\"{0:.2f}\".format((df_effective_true['Covered'].value_counts().to_frame()['Covered'][True]/df_effective_true['Covered'].value_counts().sum())*100))\n",
    "    escalated_not_covered = float(\"{0:.2f}\".format(100- escalated_covered))\n",
    "else:\n",
    "    escalated_covered = 0\n",
    "    escalated_not_covered = 0\n",
    "\n",
    "# Calculate coverage and non-coverage in non-escalated conversations\n",
    "if len(df_not_effective) > 0:\n",
    "    not_escalated_covered = float(\"{0:.2f}\".format((df_not_effective['Covered'].value_counts().to_frame()['Covered'][True]/df_not_effective['Covered'].value_counts().sum())*100))\n",
    "    not_escalated_not_covered = float(\"{0:.2f}\".format(100 - not_escalated_covered))\n",
    "else:\n",
    "    not_escalated_covered = 0\n",
    "    not_escalated_not_covered = 0\n",
    "\n",
    "# Calculate average confidence of escalated conversations\n",
    "if len(df_effective_true) > 0:\n",
    "    esc_avg_conf = float(\"{0:.2f}\".format(df_effective_true[df_effective_true['Covered']==True]['response.top_intent_confidence'].mean()*100))\n",
    "else:\n",
    "    esc_avg_conf = 0\n",
    "    \n",
    "# Calculate average confidence of non-escalated conversations\n",
    "if len(df_not_effective) > 0:\n",
    "    not_esc_avg_conf = float(\"{0:.2f}\".format(df_not_effective[df_not_effective['Covered']==True]['response.top_intent_confidence'].mean()*100))\n",
    "else:\n",
    "    not_esc_avg_conf = 0"
   ]
  },
  {
   "cell_type": "markdown",
   "metadata": {},
   "source": [
    "###  6.1 Generate excel file and upload to our project<a id=\"conv_analysis1\"></a>"
   ]
  },
  {
   "cell_type": "code",
   "execution_count": 20,
   "metadata": {},
   "outputs": [],
   "source": [
    "# Copy the effective dataframe\n",
    "df_excel = df_effective.copy(deep=True)\n",
    "# Rename columns to generate excel\n",
    "df_excel = df_excel.rename(columns={'log_id':'Log ID', 'response.context.conversation_id':'Conversation ID',\n",
    "                           'response.timestamp':'Response Timestamp',\n",
    "                           'request_input':'Utterance Text',\n",
    "                           'response_text':'Response Text', 'response.top_intent_intent':'Detected top intent',\n",
    "                           'response.top_intent_confidence':'Detected top intent confidence',\n",
    "                           'Intent 2 intent': 'Intent 2', 'Intent 2 confidence':'Intent 2 Confidence', \n",
    "                           'Intent 3 intent': 'Intent 3', 'Intent 3 confidence':'Intent 3 Confidence',\n",
    "                           'response_entities':'Detected Entities', 'Escalated_conversation':'Escalated conversation?',\n",
    "                           'Covered':'Covered?', 'Not Covered cause':'Not covered - cause',\n",
    "                           'response.output.nodes_visited_s':'Dialog Flow', 'response_dialog_stack':'Dialog stack',\n",
    "                           'response_dialog_request_counter':'Dialog request counter', 'response_dialog_turn_counter':'Dialog turn counter'\n",
    "                           })\n",
    "\n",
    "existing_columns = ['Log ID', 'Conversation ID', 'Response Timestamp', 'Customer ID (must retain for delete)',\n",
    "                    'Utterance Text', 'Response Text', 'Detected top intent', 'Detected top intent confidence',\n",
    "                    'Intent 2', 'Intent 2 Confidence', 'Confidence gap (between 1 and 2)', 'Intent 3', 'Intent 3 Confidence',\n",
    "                    'Detected Entities', 'Escalated conversation?', 'Covered?', 'Not covered - cause',\n",
    "                    'Dialog Flow', 'Dialog stack', 'Dialog request counter', 'Dialog turn counter']\n",
    "# Add new columns for annotating problematic logs\n",
    "new_columns_excel = ['Response Correct (Y/N)?', 'Response Helpful (Y/N)?', 'Root cause (Problem with Intent, entity, dialog)',\n",
    "                     'Wrong intent? If yes, put the correct intent. Otherwise leave it blank', 'New intent needed? (A new intent. Otherwise leave blank)',\n",
    "                     'Add Utterance to Training data (Y/N)', 'Entity missed? If yes, put the missed entity value. Otherwise leave it blank', 'New entity needed? If yes, put the entity name',\n",
    "                     'New entity value? If yes, put the entity value', 'New dialog logic needed?', 'Wrong dialog node? If yes, put the node name. Otherwise leave it blank','No dialog node triggered']\n",
    "\n",
    "# Add the new columns to the dataframe\n",
    "df_excel = df_excel.reindex(columns=[*existing_columns, *new_columns_excel], fill_value='')"
   ]
  },
  {
   "cell_type": "code",
   "execution_count": 21,
   "metadata": {},
   "outputs": [],
   "source": [
    "# Set maximum sampling size\n",
    "SAMPLE_SIZE = 200\n",
    "\n",
    "# Set output filename\n",
    "all_file = 'All.xlsx'\n",
    "escalated_sample_file = 'Escalated_sample.xlsx'\n",
    "non_escalated_sample_file = 'NotEscalated_sample.xlsx'\n",
    "\n",
    "# Generate all covered sample file\n",
    "df_covered = df_excel[df_excel['Covered?']==True].reset_index(drop=True)\n",
    "\n",
    "# Generate all not covered sample file\n",
    "df_not_covered = df_excel[df_excel['Covered?']==False].reset_index(drop=True)\n",
    "\n",
    "# Convert to Excel format and upload to COS\n",
    "generate_excel_measure([df_covered,df_not_covered], ['Covered', 'Not_Covered'], filename=all_file, project_io=None)\n",
    "\n",
    "# Generate escalated and covered sample file\n",
    "df_escalated_true = df_excel.loc[df_excel['Escalated conversation?']==True]\n",
    "df_escalated_covered = df_escalated_true[df_escalated_true['Covered?']==True]\n",
    "if len(df_escalated_covered) > 0:\n",
    "    df_escalated_covered = df_escalated_covered.sample(n=min(len(df_escalated_covered), SAMPLE_SIZE), random_state=1).reset_index(drop=True)\n",
    "\n",
    "# Generate escalated but not covered sample file\n",
    "df_escalated_not_covered = df_escalated_true[df_escalated_true['Covered?']==False]\n",
    "if len(df_escalated_not_covered) > 0:\n",
    "    df_escalated_not_covered = df_escalated_not_covered.sample(n=min(len(df_escalated_not_covered), SAMPLE_SIZE), random_state=1).reset_index(drop=True)\n",
    "\n",
    "# Covert to Excel format and upload to COS\n",
    "generate_excel_measure([df_escalated_covered,df_escalated_not_covered], ['Covered', 'Not_Covered'], filename=escalated_sample_file, project_io=None)\n",
    "\n",
    "# Generate not escalated but covered sample file\n",
    "df_not_escalated = df_excel.loc[df_excel['Escalated conversation?']==False]\n",
    "df_not_escalated_covered = df_not_escalated[df_not_escalated['Covered?']==True]\n",
    "if len(df_not_escalated_covered) > 0:\n",
    "    df_not_escalated_covered = df_not_escalated_covered.sample(n=min(len(df_not_escalated_covered), SAMPLE_SIZE), random_state=1).reset_index(drop=True)\n",
    "\n",
    "# Generate not escalated and not covered sample file\n",
    "df_not_escalated_not_covered = df_not_escalated[df_not_escalated['Covered?']==False]\n",
    "if len(df_not_escalated_not_covered) > 0:\n",
    "    df_not_escalated_not_covered = df_not_escalated_covered.sample(n=min(len(df_not_escalated_not_covered), SAMPLE_SIZE), random_state=1).reset_index(drop=True)\n",
    "        \n",
    "# Covert to Excel format and upload to COS\n",
    "generate_excel_measure([df_not_escalated_covered,df_not_escalated_not_covered], ['Covered', 'Not_Covered'], filename=non_escalated_sample_file, project_io=None)"
   ]
  },
  {
   "cell_type": "markdown",
   "metadata": {},
   "source": [
    "###  6.2 Plot breakdown by effectiveness graph<a id=\"conv_analysis2\"></a>"
   ]
  },
  {
   "cell_type": "code",
   "execution_count": 22,
   "metadata": {},
   "outputs": [
    {
     "data": {
      "text/html": [
       "<tr><th colspan=\"4\"><div align=\"left\"><h2>Breakdown by effectiveness<hr/></h2></div></th></tr><tr><th colspan=\"4\"><div align=\"left\"><a id=\"file_list\"></a>View the lists here: <a href=All.xlsx target=\"_blank\">All.xlsx</a>&nbsp;&nbsp;&nbsp;<a href=Escalated_sample.xlsx target=\"_blank\">Escalated_sample.xlsx</a>&nbsp;&nbsp;&nbsp;<a href=NotEscalated_sample.xlsx target=\"_blank\">NotEscalated_sample.xlsx</a></div></th></tr><tr><td style= \"border-right: 1px solid black; border-bottom: 1px solid black; width : 400px\"><div align=\"left\"><strong>Effectiveness (Escalated)&nbsp;</br><font size=\"5\">2.55%</strong></font size></br></div></td>    <td style=\"width:1000px; height=100;\"><img class=\"colimg\" src='data:image/png;base64,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'></td></tr><tr><td style= \"border-right: 1px solid black; border-bottom: 1px solid black; width : 400px;\"><div align=\"left\"><strong>Effectiveness (Not escalated)&nbsp;</br><font size=\"5\">97.45%</strong></font size></br></div></td>    <td style=\"width:1000px; height=100;border-bottom: 1px solid black;\"><img class=\"colimg\" src='data:image/png;base64,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'></td></tr>"
      ],
      "text/plain": [
       "<IPython.core.display.HTML object>"
      ]
     },
     "execution_count": 22,
     "metadata": {},
     "output_type": "execute_result"
    }
   ],
   "source": [
    "#### Get the links to the excels\n",
    "all_html_link = '<a href={} target=\"_blank\">All.xlsx</a>'.format(all_file)\n",
    "escalated_html_link = '<a href={} target=\"_blank\">Escalated_sample.xlsx</a>'.format(escalated_sample_file)\n",
    "not_escalated_html_link = '<a href={} target=\"_blank\">NotEscalated_sample.xlsx</a>'.format(non_escalated_sample_file)\n",
    "\n",
    "# Embed the links in HTML table format\n",
    "link_html = '<tr><th colspan=\"4\"><div align=\"left\"><a id=\"file_list\"></a>View the lists here: {}&nbsp;&nbsp;&nbsp;{}&nbsp;&nbsp;&nbsp;{}</div></th></tr>'.format(all_html_link, escalated_html_link, not_escalated_html_link)\n",
    "\n",
    "if 100-effective_perc > 0:\n",
    "    escalated_bar = coverage_barh(escalated_covered, esc_avg_conf, '', True, 15, width_bar(100-effective_perc))\n",
    "else:\n",
    "    escalated_bar = ''\n",
    "\n",
    "if effective_perc > 0: \n",
    "    non_escalated_bar = coverage_barh(not_escalated_covered, not_esc_avg_conf, '' , True , 15,width_bar(effective_perc))\n",
    "else:\n",
    "    non_escalated_bar = ''\n",
    "\n",
    "# Plot the results\n",
    "HTML('<tr><th colspan=\"4\"><div align=\"left\"><h2>Breakdown by effectiveness<hr/></h2></div></th></tr>\\\n",
    "'+ link_html + '<tr><td style= \"border-right: 1px solid black; border-bottom: 1px solid black; width : 400px\"><div align=\"left\"><strong>Effectiveness (Escalated)&nbsp;</br>\\\n",
    "<font size=\"5\">{ef_escalated}%</strong></font size></br></div></td>\\\n",
    "    <td style=\"width:1000px; height=100;\">{one}</td></tr>\\\n",
    "<tr><td style= \"border-right: 1px solid black; border-bottom: 1px solid black; width : 400px;\"><div align=\"left\"><strong>Effectiveness (Not escalated)&nbsp;</br>\\\n",
    "<font size=\"5\">{effective_perc}%</strong></font size></br></div></td>\\\n",
    "    <td style=\"width:1000px; height=100;border-bottom: 1px solid black;\">{two}</td>\\\n",
    "</tr>'.format(ef_escalated= ef_escalated,\n",
    "              one = escalated_bar, \n",
    "              effective_perc = effective_perc, \n",
    "              two = non_escalated_bar)) \n"
   ]
  },
  {
   "cell_type": "markdown",
   "metadata": {},
   "source": [
    "You can download all the analyzed data from `All.xlsx`. A sample of escalated and non-escalated conversations are available in `Escalated_sample.xlsx` and `NotEscalated_sample.xlsx` respectively.\n"
   ]
  },
  {
   "cell_type": "markdown",
   "metadata": {},
   "source": [
    "<a id=\"root_cause\"></a>\n",
    "## 7. Root cause analysis of non coverage\n",
    "Lets us take a look at the reasons for non-coverage of messages"
   ]
  },
  {
   "cell_type": "code",
   "execution_count": 23,
   "metadata": {
    "scrolled": true
   },
   "outputs": [
    {
     "data": {
      "text/html": [
       "<div>\n",
       "<style>\n",
       "    .dataframe thead tr:only-child th {\n",
       "        text-align: right;\n",
       "    }\n",
       "\n",
       "    .dataframe thead th {\n",
       "        text-align: left;\n",
       "    }\n",
       "\n",
       "    .dataframe tbody tr th {\n",
       "        vertical-align: top;\n",
       "    }\n",
       "</style>\n",
       "<table border=\"1\" class=\"dataframe\">\n",
       "  <thead>\n",
       "    <tr style=\"text-align: right;\">\n",
       "      <th></th>\n",
       "      <th>Messages</th>\n",
       "      <th>Total</th>\n",
       "    </tr>\n",
       "  </thead>\n",
       "  <tbody>\n",
       "    <tr>\n",
       "      <th>0</th>\n",
       "      <td>'anything_else' node</td>\n",
       "      <td>724</td>\n",
       "    </tr>\n",
       "    <tr>\n",
       "      <th>1</th>\n",
       "      <td>'#out_of_scope || #off_topic' node</td>\n",
       "      <td>186</td>\n",
       "    </tr>\n",
       "  </tbody>\n",
       "</table>\n",
       "</div>"
      ],
      "text/plain": [
       "                             Messages  Total\n",
       "0                'anything_else' node    724\n",
       "1  '#out_of_scope || #off_topic' node    186"
      ]
     },
     "execution_count": 23,
     "metadata": {},
     "output_type": "execute_result"
    }
   ],
   "source": [
    "# Count the causes for non-coverage and store results in dataframe\n",
    "not_covered = pd.DataFrame(df_coverage['Not Covered cause'].value_counts().reset_index())\n",
    "# Name the columns in the dataframe\n",
    "not_covered.columns = ['Messages', 'Total']\n",
    "not_covered"
   ]
  },
  {
   "cell_type": "markdown",
   "metadata": {},
   "source": [
    "<a id=\"abandoned_resolved_intents\"></a>\n",
    "## 8. Abandoned and resolved intent analysis\n",
    "\n",
    "When users start a conversation session, an assistant identifies their intents. Based on the logic flow defined in a dialog tree, the assistant communicates with users and performs actions. The assistant may succeed or fail to satisfy users' intents. Analyzing resolved and abandoned intents can help you identify issues in your assistant to improve, such as problematic dialog flow or imprecise intents. In this section, we demonstrate a method of conducting intent analysis using context variables.\n",
    "\n",
    "We introduce two context variables: `response_context_IntentStarted` and `response_context_IntentCompleted`. When users trigger a conversation with an intent, an assistant uses `response_context_IntentStarted` to record the intent. During the conversation, the assistant uses `response_context_IntentCompleted` to record if the intent is satisfied. Follow the steps below to add the context variables for an intent.\n",
    "\n",
    "1. Open Dialog Overview page, see <a href=\"https://cloud.ibm.com/docs/services/assistant?topic=assistant-dialog-overview\" target=\"_blank\">Dialog Overview</a> for more information.\n",
    "2. Click the entry point node of the intent\n",
    "3. Open the context editor, see <a href=\"https://cloud.ibm.com/docs/services/assistant?topic=assistant-dialog-runtime#dialog-runtime-context-variables\" target=\"_blank\">Context Variables</a> for more information\n",
    "4. Add `response_context_IntentStarted` as a variable and \\[intent_name\\] as the value\n",
    "5. Follow the dialog flow to locate the satisfying node of the intent\n",
    "6. Open the context editor\n",
    "7. Add `response_context_IntentCompleted` as variable and \\[intent_name\\] as the value\n",
    "8. Repeat step 5-7 to mark all satisfying nodes of the intent if necessary\n",
    "\n",
    "After completing the above steps, run the following code for intent analysis. Note that the analysis requires logs generated after the above changes. You will need to reload the updated workspace and logs."
   ]
  },
  {
   "cell_type": "markdown",
   "metadata": {},
   "source": [
    "###  8.1 Count of all started intents<a id=\"started_intents\"></a>"
   ]
  },
  {
   "cell_type": "code",
   "execution_count": 24,
   "metadata": {},
   "outputs": [
    {
     "data": {
      "text/html": [
       "<table border=\"1\" class=\"dataframe\">\n",
       "  <thead>\n",
       "    <tr style=\"text-align: right;\">\n",
       "      <th></th>\n",
       "      <th>Intent</th>\n",
       "      <th>Count</th>\n",
       "    </tr>\n",
       "  </thead>\n",
       "  <tbody>\n",
       "    <tr>\n",
       "      <th>0</th>\n",
       "      <td>locate_amenity</td>\n",
       "      <td>7</td>\n",
       "    </tr>\n",
       "    <tr>\n",
       "      <th>1</th>\n",
       "      <td>turn_on</td>\n",
       "      <td>6</td>\n",
       "    </tr>\n",
       "    <tr>\n",
       "      <th>2</th>\n",
       "      <td>phone</td>\n",
       "      <td>3</td>\n",
       "    </tr>\n",
       "    <tr>\n",
       "      <th>3</th>\n",
       "      <td>turn_up</td>\n",
       "      <td>2</td>\n",
       "    </tr>\n",
       "    <tr>\n",
       "      <th>4</th>\n",
       "      <td>turn_off</td>\n",
       "      <td>1</td>\n",
       "    </tr>\n",
       "    <tr>\n",
       "      <th>5</th>\n",
       "      <td>turn_down</td>\n",
       "      <td>1</td>\n",
       "    </tr>\n",
       "  </tbody>\n",
       "</table>"
      ],
      "text/plain": [
       "<IPython.core.display.HTML object>"
      ]
     },
     "metadata": {},
     "output_type": "display_data"
    }
   ],
   "source": [
    "# Define context variables\n",
    "start_intent_variable = 'response_context_IntentStarted'\n",
    "end_intent_variable = 'response_context_IntentCompleted'\n",
    "\n",
    "# Group dataframe by conversation_id and start_intent_variable\n",
    "df_intent_started = df_formated.groupby(['response.context.conversation_id', start_intent_variable]).count().reset_index()\n",
    "# Refactors data to show only columns of conversation_id and start_intent_variable\n",
    "df_intent_started = df_intent_started[['response.context.conversation_id', start_intent_variable]]\n",
    "\n",
    "# Count the number of conversation_ids with each start_intent_variable\n",
    "intent_started = df_intent_started[start_intent_variable].value_counts().reset_index()\n",
    "intent_started.columns = ['Intent', 'Count']\n",
    "display(HTML(intent_started.to_html()))\n"
   ]
  },
  {
   "cell_type": "markdown",
   "metadata": {},
   "source": [
    "###  8.2 Analyze resolved intents<a id=\"resolved_intents\"></a>"
   ]
  },
  {
   "cell_type": "code",
   "execution_count": 25,
   "metadata": {},
   "outputs": [
    {
     "name": "stdout",
     "output_type": "stream",
     "text": [
      "\n",
      "Count of resolved intents in all conversations\n",
      "================================================\n"
     ]
    },
    {
     "data": {
      "text/html": [
       "<table border=\"1\" class=\"dataframe\">\n",
       "  <thead>\n",
       "    <tr style=\"text-align: right;\">\n",
       "      <th></th>\n",
       "      <th>Intent</th>\n",
       "      <th>Count</th>\n",
       "    </tr>\n",
       "  </thead>\n",
       "  <tbody>\n",
       "    <tr>\n",
       "      <th>0</th>\n",
       "      <td>turn_on</td>\n",
       "      <td>5</td>\n",
       "    </tr>\n",
       "    <tr>\n",
       "      <th>1</th>\n",
       "      <td>phone</td>\n",
       "      <td>3</td>\n",
       "    </tr>\n",
       "    <tr>\n",
       "      <th>2</th>\n",
       "      <td>locate_amenity</td>\n",
       "      <td>3</td>\n",
       "    </tr>\n",
       "  </tbody>\n",
       "</table>"
      ],
      "text/plain": [
       "<IPython.core.display.HTML object>"
      ]
     },
     "metadata": {},
     "output_type": "display_data"
    },
    {
     "name": "stdout",
     "output_type": "stream",
     "text": [
      "\n",
      "Most resolved intents (%)\n",
      "===========================\n"
     ]
    },
    {
     "data": {
      "text/html": [
       "<table border=\"1\" class=\"dataframe\">\n",
       "  <thead>\n",
       "    <tr style=\"text-align: right;\">\n",
       "      <th></th>\n",
       "      <th>Intent</th>\n",
       "      <th>Percentage</th>\n",
       "    </tr>\n",
       "  </thead>\n",
       "  <tbody>\n",
       "    <tr>\n",
       "      <th>0</th>\n",
       "      <td>phone</td>\n",
       "      <td>100.0%</td>\n",
       "    </tr>\n",
       "    <tr>\n",
       "      <th>1</th>\n",
       "      <td>turn_on</td>\n",
       "      <td>83.3%</td>\n",
       "    </tr>\n",
       "    <tr>\n",
       "      <th>2</th>\n",
       "      <td>locate_amenity</td>\n",
       "      <td>42.9%</td>\n",
       "    </tr>\n",
       "  </tbody>\n",
       "</table>"
      ],
      "text/plain": [
       "<IPython.core.display.HTML object>"
      ]
     },
     "metadata": {},
     "output_type": "display_data"
    }
   ],
   "source": [
    "# Group dataframe by conversation_id and end_intent_variable\n",
    "df_intent_completed = df_formated.groupby(['response.context.conversation_id',end_intent_variable]).count().reset_index()\n",
    "# Refactor data to show columns of conversation_id and end_intent_variable only\n",
    "df_intent_completed = df_intent_completed[['response.context.conversation_id',end_intent_variable]]\n",
    "# Count the number of conversation_ids with each end_intent_variable\n",
    "intent_completed = df_intent_completed[end_intent_variable].value_counts().reset_index()\n",
    "intent_completed.columns = ['Intent', 'Count']\n",
    "\n",
    "# Show counts of resolved intents\n",
    "intent_completed_title = '\\nCount of resolved intents in all conversations\\n'\n",
    "print(intent_completed_title, \"=\" * len(intent_completed_title),'', sep = '')\n",
    "display(HTML(intent_completed.to_html()))\n",
    "\n",
    "# Convert dataframe to a list\n",
    "res_intent_list = intent_completed.values.tolist()\n",
    "# Get list of started intents\n",
    "all_intent = df_intent_started[start_intent_variable].value_counts().reset_index().values.tolist()\n",
    "\n",
    "# Loop over resolved intents list. Each element contains a pair of intent and count\n",
    "data = []\n",
    "for pair_ab in res_intent_list:\n",
    "    # Loop over each row of started intents. Each row contains a pair of intent and count\n",
    "    for pair_all in all_intent:\n",
    "        # Check if the intent name matches in started and resolved intents\n",
    "        if pair_ab[0] == pair_all[0]:\n",
    "            # Then acccesses the count from that matched intent, and calculate percentage\n",
    "            perc = (pair_ab[1]/pair_all[1])*100\n",
    "            # Add the matched intent name and percentage to data list\n",
    "            data.append([pair_ab[0],perc])\n",
    "            \n",
    "# Create a new dataframe with data list\n",
    "resolved_percentage = pd.DataFrame(data=data).reset_index(drop=True)\n",
    "\n",
    "# Format the dataframe, and orders data in descending order (shows highest percentage first)\n",
    "resolved_percentage.columns = ['Intent','Percentage']\n",
    "resolved_percentage.sort_values(ascending=False,inplace=True, by='Percentage')\n",
    "# Format the data in the percentage column to include '%', and 1 decimal point\n",
    "resolved_percentage['Percentage'] = resolved_percentage['Percentage'].apply(lambda x: \"{0:.1f}%\".format(x))\n",
    "resolved_percentage.reset_index(drop=True, inplace=True)\n",
    "\n",
    "# Show most resolved intents\n",
    "most_resolved_intents = \"\\nMost resolved intents (%)\\n\"\n",
    "print(most_resolved_intents, \"=\" * len(most_resolved_intents),'', sep = '')\n",
    "display(HTML(resolved_percentage.to_html()))\n"
   ]
  },
  {
   "cell_type": "markdown",
   "metadata": {},
   "source": [
    "###  8.3 Analyze abandoned intents<a id=\"abandoned_intents\"></a>"
   ]
  },
  {
   "cell_type": "code",
   "execution_count": 26,
   "metadata": {},
   "outputs": [
    {
     "name": "stdout",
     "output_type": "stream",
     "text": [
      "\n",
      "Count of abandoned intents in all conversations\n",
      "=================================================\n"
     ]
    },
    {
     "data": {
      "text/html": [
       "<table border=\"1\" class=\"dataframe\">\n",
       "  <thead>\n",
       "    <tr style=\"text-align: right;\">\n",
       "      <th></th>\n",
       "      <th>Intent</th>\n",
       "      <th>Count</th>\n",
       "    </tr>\n",
       "  </thead>\n",
       "  <tbody>\n",
       "    <tr>\n",
       "      <th>0</th>\n",
       "      <td>locate_amenity</td>\n",
       "      <td>4</td>\n",
       "    </tr>\n",
       "    <tr>\n",
       "      <th>1</th>\n",
       "      <td>turn_up</td>\n",
       "      <td>2</td>\n",
       "    </tr>\n",
       "    <tr>\n",
       "      <th>2</th>\n",
       "      <td>turn_on</td>\n",
       "      <td>2</td>\n",
       "    </tr>\n",
       "    <tr>\n",
       "      <th>3</th>\n",
       "      <td>turn_off</td>\n",
       "      <td>1</td>\n",
       "    </tr>\n",
       "    <tr>\n",
       "      <th>4</th>\n",
       "      <td>turn_down</td>\n",
       "      <td>1</td>\n",
       "    </tr>\n",
       "  </tbody>\n",
       "</table>"
      ],
      "text/plain": [
       "<IPython.core.display.HTML object>"
      ]
     },
     "metadata": {},
     "output_type": "display_data"
    },
    {
     "name": "stdout",
     "output_type": "stream",
     "text": [
      "\n",
      "Most abandoned intents (%)\n",
      "============================\n"
     ]
    },
    {
     "data": {
      "text/html": [
       "<table border=\"1\" class=\"dataframe\">\n",
       "  <thead>\n",
       "    <tr style=\"text-align: right;\">\n",
       "      <th></th>\n",
       "      <th>Intent</th>\n",
       "      <th>Percentage</th>\n",
       "    </tr>\n",
       "  </thead>\n",
       "  <tbody>\n",
       "    <tr>\n",
       "      <th>0</th>\n",
       "      <td>turn_up</td>\n",
       "      <td>100.0%</td>\n",
       "    </tr>\n",
       "    <tr>\n",
       "      <th>1</th>\n",
       "      <td>turn_off</td>\n",
       "      <td>100.0%</td>\n",
       "    </tr>\n",
       "    <tr>\n",
       "      <th>2</th>\n",
       "      <td>turn_down</td>\n",
       "      <td>100.0%</td>\n",
       "    </tr>\n",
       "    <tr>\n",
       "      <th>3</th>\n",
       "      <td>locate_amenity</td>\n",
       "      <td>57.1%</td>\n",
       "    </tr>\n",
       "    <tr>\n",
       "      <th>4</th>\n",
       "      <td>turn_on</td>\n",
       "      <td>33.3%</td>\n",
       "    </tr>\n",
       "  </tbody>\n",
       "</table>"
      ],
      "text/plain": [
       "<IPython.core.display.HTML object>"
      ]
     },
     "metadata": {},
     "output_type": "display_data"
    }
   ],
   "source": [
    "# Create lists of started and end_intent_variable\n",
    "intent_complete_list = df_intent_completed.values.tolist()\n",
    "intent_started_list = df_intent_started.values.tolist()\n",
    "\n",
    "# Looping over completed intents list. Each element contains a pair of conversation id and end_intent_variable\n",
    "for pair in intent_complete_list:\n",
    "    # Checks if any element is found in list of started intents\n",
    "    if pair in intent_started_list:\n",
    "        # If found, remove that pair from the list of started intents\n",
    "        intent_started_list.remove(pair)\n",
    "\n",
    "# Create a new dataframe with updated dataset. \n",
    "# This updated dataset contains intents that have been started but not completed, thus categorised as abandoned\n",
    "df_intent_abandoned = pd.DataFrame(data=intent_started_list)\n",
    "\n",
    "# Group each pair (conversation id, intent abandoned), and show number of occurances of each abandoned intent\n",
    "final_intent_abandoned = df_intent_abandoned[1].value_counts().reset_index()\n",
    "final_intent_abandoned.columns = ['Intent','Count']\n",
    "\n",
    "# Show counts of abandoned intents\n",
    "intent_abandoned_title = '\\nCount of abandoned intents in all conversations\\n'\n",
    "print(intent_abandoned_title, \"=\" * len(intent_abandoned_title),'', sep = '')\n",
    "display(HTML(final_intent_abandoned.to_html()))\n",
    "\n",
    "# Convert dataframe to a list\n",
    "aban_intent_list = final_intent_abandoned.values.tolist()\n",
    "# Get list of started intents\n",
    "all_intent = df_intent_started[start_intent_variable].value_counts().reset_index().values.tolist()\n",
    "\n",
    "# Loop over resolved intents list. Each element contains a pair of intent and count\n",
    "data = []\n",
    "for pair_ab in aban_intent_list:\n",
    "    # Loop over each row of started intents. Each row contains a pair of intent and count\n",
    "    for pair_all in all_intent:\n",
    "        # Check if the intent name matches in started and resolved intents\n",
    "        if pair_ab[0] == pair_all[0]:\n",
    "            # Then acccesse the count from that matched intent, and calculate percentage\n",
    "            perc = (pair_ab[1]/pair_all[1])*100\n",
    "            # Add the matched intent name and percentage to data list\n",
    "            data.append([pair_ab[0],perc])\n",
    "            \n",
    "# Create a new dataframe with data list\n",
    "abandoned_percentage = pd.DataFrame(data=data).reset_index(drop=True)\n",
    "\n",
    "# Format the dataframe, and orders data in descending order (shows highest percentage first)\n",
    "abandoned_percentage.columns = ['Intent','Percentage']\n",
    "abandoned_percentage.sort_values(ascending=False,inplace=True, by='Percentage')\n",
    "abandoned_percentage.reset_index(drop=True, inplace=True)\n",
    "\n",
    "# Format the data in the percentage column to include '%', and 1 decimal point\n",
    "abandoned_percentage['Percentage'] = abandoned_percentage['Percentage'].apply(lambda x: \"{0:.1f}%\".format(x))\n",
    "\n",
    "# Show most abandoned intents\n",
    "most_abandoned_intents = \"\\nMost abandoned intents (%)\\n\"\n",
    "print(most_abandoned_intents, \"=\" * len(most_abandoned_intents),'', sep = '')\n",
    "display(HTML(abandoned_percentage.to_html()))"
   ]
  },
  {
   "cell_type": "markdown",
   "metadata": {},
   "source": [
    "Finally, we generate an excel file containing all abandoned and resolved intents for further analysis."
   ]
  },
  {
   "cell_type": "code",
   "execution_count": 27,
   "metadata": {},
   "outputs": [
    {
     "data": {
      "text/html": [
       "Abandoned and resolved intents: <b><a href=Long_intent_coverage.xlsx target=\"_blank\">Long_intent_coverage.xlsx</a></b>"
      ],
      "text/plain": [
       "<IPython.core.display.HTML object>"
      ]
     },
     "execution_count": 27,
     "metadata": {},
     "output_type": "execute_result"
    }
   ],
   "source": [
    "# Generate excel file\n",
    "file_name = 'Long_intent_coverage.xlsx'\n",
    "generate_excel_measure([df_intent_abandoned,df_intent_completed], ['Abandoned', 'Resolved'], filename= file_name, project_io=None)\n",
    "\n",
    "link_html = 'Abandoned and resolved intents: <b><a href={} target=\"_blank\">Long_intent_coverage.xlsx</a></b>'.format(file_name)\n",
    "\n",
    "HTML(link_html)\n"
   ]
  },
  {
   "cell_type": "markdown",
   "metadata": {},
   "source": [
    "<a id=\"summary\"></a>\n",
    "## 9. Summary and next steps\n",
    "\n",
    "The metrics described above help you narrow your immediate focus of improvement. We suggest the following two strategies: \n",
    "\n",
    "- **Toward improving Effectiveness**\n",
    "\n",
    "    We suggest focusing on a group of problematic conversations, e.g., escalated conversations, then performing a deeper analysis on these conversation as follows. <br>\n",
    "    1. Choose to download either the complete conversations ([All.xlsx](#file_list)), or sampled escalated conversations [Escalated_sample.xlsx](#file_list), or non-escalated conversations [NotEscalated_sample.xlsx](#file_list).<br>\n",
    "    2. Perform a manual assessment of these conversations.<br>\n",
    "    3. Analyze the results using our __Analyze Watson Assistant Effectiveness__ Jupyter Notebook.\n",
    "\n",
    "\n",
    "- **Toward improving Coverage**\n",
    "\n",
    "    For utterances where an intent was found but no response was given. We suggest performing a deeper analysis to identify  root causes, e.g., missing entities or lacking of dialog logic. \n",
    "\n",
    "    For utterances where no intent was found, we suggest expanding intent coverage as follows.\n",
    "\n",
    "    1. Examine utterances from the production log, especially focus on the utterances that are below the confidence (0.2 by default).\n",
    "    2. If you set a confidence threshold significantly higher than 0.2, we suggest looking at utterances that are below but close to the threshold.\n",
    "    3. Once you select a collection of utterances, intent expansion, you can focus on intent expansion by two methods:\n",
    "        - One-by-One: examine each utterance to either change to an existing intent or add a new intent.\n",
    "        - Unsupervised Learning: perform semantic clustering to generate utterance clusters; examine each cluster to decide (1) adding utterances of an existing intent or (2) creating a new intent.\n",
    "\n",
    "For more information, please check <a href=\"https://github.com/watson-developer-cloud/assistant-improve-recommendations-notebook/raw/master/notebook/IBM%20Watson%20Assistant%20Continuous%20Improvement%20Best%20Practices.pdf\" target=\"_blank\" rel=\"noopener noreferrer\">Watson Assistant Continuous Improvement Best Practices</a>."
   ]
  },
  {
   "cell_type": "markdown",
   "metadata": {},
   "source": [
    "### <a id=\"authors\"></a>Authors\n",
    "\n",
    "**Zhe Zhang**, Ph.D. in Computer Science, is an Advisory Software Engineer for IBM Watson AI. Zhe has a research background in Natural Language Processing, Sentiment Analysis, Text Mining, and Machine Learning. His research has been published at leading  conferences and journals including ACL and EMNLP.\n",
    "\n",
    "**Sherin Varughese** is a Data Scientist for IBM Watson AI. Sherin has her graduate degree in Business Intelligence and Data Analytics and has experience in Data Analysis, Warehousing and Machine Learning."
   ]
  },
  {
   "cell_type": "markdown",
   "metadata": {},
   "source": [
    "### <a id=\"acknowledgement\"></a> Acknowledgement\n",
    "\n",
    "The authors would like to thank the following members of the IBM Research and Watson Assistant teams for their contributions and reviews of the notebook:  Matt Arnold, Adam Benvie, Kyle Croutwater, Eric Wayne."
   ]
  },
  {
   "cell_type": "markdown",
   "metadata": {},
   "source": [
    "Copyright © 2019 IBM. This notebook and its source code are released under the terms of the MIT License."
   ]
  }
 ],
 "metadata": {
  "kernelspec": {
   "display_name": "Python 3",
   "language": "python",
   "name": "python3"
  },
  "language_info": {
   "codemirror_mode": {
    "name": "ipython",
    "version": 3
   },
   "file_extension": ".py",
   "mimetype": "text/x-python",
   "name": "python",
   "nbconvert_exporter": "python",
   "pygments_lexer": "ipython3",
   "version": "3.6.5"
  }
 },
 "nbformat": 4,
 "nbformat_minor": 1
}
